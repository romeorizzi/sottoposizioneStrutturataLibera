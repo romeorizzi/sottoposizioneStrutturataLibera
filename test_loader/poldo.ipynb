{
 "cells": [
  {
   "cell_type": "code",
   "execution_count": 1,
   "metadata": {
    "hide_input": true,
    "pycharm": {
     "name": "#%%\n"
    }
   },
   "outputs": [],
   "source": [
    "import os\n",
    "from IPython.core.display import display, HTML, Markdown, clear_output, Javascript\n",
    "import ipywidgets as widgets\n",
    "from IPython.display import IFrame, display"
   ]
  },
  {
   "cell_type": "code",
   "execution_count": 22,
   "metadata": {},
   "outputs": [],
   "source": [
    "def on_change(change):#si attiva quando cambio scelta dell'elemento da selezionare\n",
    "    global allegato\n",
    "    \n",
    "    if change['type'] == 'change' and change['name'] == 'value':\n",
    "        print (\"Stai scegliendo %s\" % change['new'])\n",
    "        allegato=change['new']\n",
    "\n",
    "def on_button_aggiorna(_):#definizione del bottone di riavvio\n",
    "        #riavvia\n",
    "    clear_output()\n",
    "    print('Hai riavviato')\n",
    "    display(Javascript('''var c = Jupyter.notebook.get_selected_index();\n",
    "\n",
    "        IPython.notebook.execute_cells([c])'''))\n",
    "\n",
    "def on_button_conferma(_):\n",
    "        #crea nuova cella con immagine+altra ugualea questa\n",
    "    global allegato\n",
    "    clear_output()\n",
    "    print('Hai scelto di allegare: '+allegato)\n",
    "    open_attachment(allegato)\n",
    "    #reload_cell_below()\n",
    "    save_file_directory() \n",
    "    \n",
    "def open_attachment(nome_allegato):#routine di scelta confermata\n",
    "    print(nome_allegato)\n",
    "    path_file=str(path_cartella_allegati_utente+ \"/\" + nome_allegato)\n",
    "    ext = os.path.splitext(str(path_cartella_allegati_utente+ \"/\" + nome_allegato))[-1].lower()\n",
    "    \n",
    "    #print(ext)\n",
    "    #print(ext.replace('.', ''))\n",
    "    if(ext=='.pdf'):\n",
    "        pdf=IFrame(path_file, width=700, height=400)\n",
    "        display(pdf)\n",
    "    else:\n",
    "        file = open(path_file, \"rb\")\n",
    "        image = file.read()\n",
    "        w=widgets.Image(\n",
    "            value=image,\n",
    "            format=ext.replace('.', ''),\n",
    "            width=300,\n",
    "            height=400,\n",
    "        )\n",
    "\n",
    "        display(w)\n",
    "\n",
    "def reload_cell_below():\n",
    "    print(\"ricarica celle sotto\")\n",
    "    display(Javascript('''var c = Jupyter.notebook.get_selected_index();\n",
    "\n",
    "            IPython.notebook.execute_cells([c+1])\n",
    "            IPython.notebook.execute_cells([c+2])'''))\n",
    "    #create_Button_main()\n",
    "    \n",
    "def risposta_libera_strutturata_main():\n",
    "    #creare markdown\n",
    "    aggiorna = widgets.Button(description='Aggiorna')\n",
    "    conferma = widgets.Button(description='Conferma')\n",
    "\n",
    "    numero_esercizio=\"X\"#yaml\n",
    "    #serve per aprire la cartella degli allegati dove l'utente li inserisce\n",
    "    path_cartella_allegati_utente=\"allegati_\"+numero_esercizio#yaml\n",
    "\n",
    "    lista_allegati = os.listdir(path_cartella_allegati_utente)\n",
    "    #serve per aprire il file dov'e l'elenco dei file allegati\n",
    "    path_elencoallegati = 'elencoallegati.txt'\n",
    "    elencoallegati=open(path_elencoallegati,'r')\n",
    "\n",
    "    if(lista_allegati):#si attiva se c'è almeno un elemento in lista quindi nella cartella allegati\n",
    "        global allegato\n",
    "        allegato=lista_allegati[0]\n",
    "        allegato_scelto_wid = widgets.Dropdown(\n",
    "            options=lista_allegati,\n",
    "            value=lista_allegati[0],\n",
    "            description='Allegati:',\n",
    "            disabled=False,\n",
    "        )\n",
    "        #allegato_scelto_wid=lista_allegati[0] da sistemare\n",
    "        allegato_scelto_wid.observe(on_change)\n",
    "        aggiorna.on_click(on_button_aggiorna)\n",
    "        conferma.on_click(on_button_conferma)\n",
    "        all_buttons = [aggiorna,allegato_scelto_wid,conferma]\n",
    "        display(widgets.HBox(all_buttons))\n",
    "    else:\n",
    "        print(\"non ci sono allegati\")\n",
    "        aggiorna.on_click(on_button_aggiorna)\n",
    "        display(aggiorna)\n",
    "\n",
    "def save_file_directory():#non si avvia se non si seleziona un elemento\n",
    "   # print(\"salvo il file nella cartella giusta, se non è gia stato inserito\")\n",
    "    #aggiungi codice\n",
    "    #print(\"aggiungo nome file allegato ad un .txt contenente in ordine di inserimento i file\")\n",
    "    #apro il file con l'elenco degli allegati e mi creo una lista\n",
    "    with open(path_elencoallegati, 'r') as f:\n",
    "        attach_list = [line.strip() for line in f]\n",
    "    attach_list.append(allegato)#aggiungo nuovo allegato\n",
    "    #salvo l'allegato aggiunto\n",
    "    f = open(path_elencoallegati,'w')\n",
    "    for ele in attach_list:\n",
    "        f.write(ele+'\\n')\n",
    "\n",
    "def on_bottone_elimina(_):\n",
    "    print(\"on_bottone_elimina\")\n",
    "    elimina_cella_superiore()\n",
    "    elimina_questa_cella()\n",
    "    \n",
    "def elimina_cella_superiore():\n",
    "    display(Javascript('''var c = Jupyter.notebook.get_selected_index();\n",
    "                                IPython.notebook.delete_cell([c-1])'''))\n",
    "def elimina_questa_cella():\n",
    "    display(Javascript('''var c = Jupyter.notebook.delete_cell();'''))\n",
    "    \n",
    "def on_bottone_libera_strutturata(_):\n",
    "    print(\"on_bottone_libera_strutturata\")\n",
    "    aggiungi_cella_code_din('codice_bottone_elimina()')\n",
    "    aggiungi_cella_code_din('risposta_libera_strutturata_main()')   \n",
    "def on_bottone_testo(_):\n",
    "    print(\"on_bottone_testo\")\n",
    "    aggiungi_cella_code_din('codice_bottone_elimina()')\n",
    "    aggiungi_cella_raw_din()\n",
    "    \n",
    "def on_bottone_libera(_):\n",
    "    print(\"on_bottone_libera\")\n",
    "    aggiungi_cella_code_din('codice_bottone_elimina()')\n",
    "    aggiungi_cella_raw_din()\n",
    "    \n",
    "def aggiungi_cella_raw_din():\n",
    "    s_all = 'Hai creato cella raw alla richiesta'\n",
    "    display(Javascript('''var c = Jupyter.notebook.insert_cell_above();\n",
    "    c.set_text(' ''' + s_all + ''' ');\n",
    "    var t_index = IPython.notebook.get_cells().indexOf(c);\n",
    "    IPython.notebook.to_raw(t_index);\n",
    "    IPython.notebook.get_cell(t_index).render();\n",
    "    IPython.notebook.execute_cells([t_index])'''))\n",
    "    return \n",
    "\n",
    "def aggiungi_cella_code_din(code):\n",
    "    display(Javascript('''var c = Jupyter.notebook.insert_cell_above();\n",
    "    c.set_text(' ''' + code + ''' ');\n",
    "    var t_index = IPython.notebook.get_cells().indexOf(c);\n",
    "    IPython.notebook.to_code(t_index);\n",
    "    IPython.notebook.get_cell(t_index).render();\n",
    "    IPython.notebook.execute_cells([t_index])'''))\n",
    "    return\n",
    "\n",
    "def codice_bottone_elimina():\n",
    "    bottone_elimina = widgets.Button(description=\"Elimina\")\n",
    "    bottone_elimina.on_click(on_bottone_elimina)\n",
    "    print(\"vuoi eliminare cella sopra?\")\n",
    "    display(bottone_elimina)\n",
    "\n",
    "def loader_main():\n",
    "    bottone_libera_strutturata = widgets.Button(description=\"Libera Strutturata\",tooltip=\"allega un file\")\n",
    "    bottone_testo = widgets.Button(description=\"Testo\",tooltip=\"crea filemarkdown\")\n",
    "    bottone_libera= widgets.Button(description=\"Libera\")\n",
    "    bottone_libera_strutturata.on_click(on_bottone_libera_strutturata)\n",
    "    bottone_testo.on_click(on_bottone_testo)\n",
    "    bottone_libera.on_click(on_bottone_libera)\n",
    "\n",
    "    all_buttons = [bottone_libera,bottone_testo,bottone_libera_strutturata]\n",
    "\n",
    "    print(\"Con che tipo di modalità vuoi rispondere?\")\n",
    "    display(widgets.HBox(all_buttons))\n",
    "numero_esercizio=\"X\"#yaml\n",
    "    #serve per aprire la cartella degli allegati dove l'utente li inserisce\n",
    "path_cartella_allegati_utente=\"allegati_\"+numero_esercizio#yaml\n",
    "allegato=\"\""
   ]
  },
  {
   "cell_type": "code",
   "execution_count": 23,
   "metadata": {
    "hide_input": false,
    "pycharm": {
     "name": "#%%\n"
    }
   },
   "outputs": [],
   "source": [
    "def is_subseq(s, subs):\n",
    "    \"\"\"\n",
    "    bool: verifica se subs è sottosequenza di s.\n",
    "    \"\"\"\n",
    "    found = 0\n",
    "    pos_r = 0\n",
    "    while pos_r < len(s):\n",
    "        if s[pos_r] == subs[found]:\n",
    "            found += 1\n",
    "            if found >= len(subs):\n",
    "                return True\n",
    "        pos_r += 1\n",
    "    return False\n",
    "\n",
    "def evaluation_format(answ, pt_green,pt_red):\n",
    "    pt_blue=pt_red-pt_green\n",
    "    return f\"{answ}. Totalizzeresti <span style='color:green'>[{pt_green} safe pt]</span>, \\\n",
    "                                    <span style='color:blue'>[{pt_blue} possible pt]</span>, \\\n",
    "                                    <span style='color:red'>[{pt_red} out of reach pt]</span>.<br>\"\n",
    "\n",
    "\n",
    "# Legend of the possible sequence types:\n",
    "dictionary_of_types = {\n",
    "      \"SC\": (\"implemented\", \"<b>strettamente crescente</b>\"),\n",
    "      \"ND\": (\"implemented\", \"<b>non-decrescente</b>\"),\n",
    "      \"SD\": (\"implemented\", \"<b>strettamente decrescente</b>\"),\n",
    "      \"NC\": (\"implemented\", \"<b>non-crescente</it>\"),\n",
    "       \"V\": (\"implemented\", \"<b>a V</b> <it>(prima giù e poi sù)</it>\"),\n",
    "       \"A\": (\"implemented\", \"<b>ad A</b> (prima sù e poi giù)</it>\"),\n",
    "      \"SV\": (\"implemented\", \"<b>a V stretto</b> <it>(prima strettamente giù e poi strettamente sù)</it>\"),\n",
    "      \"SA\": (\"implemented\", \"<b>ad A stetto</b> <it>(prima strettamente sù e poi strettamente giù)</it>\"),\n",
    "  \"ZigZag\": (\"implemented\", \"<b>a Zig-Zag</b> <it>(primo passo a crescere e poi alterna ad ogni passo)</it>\"),\n",
    "  \"ZagZig\": (\"implemented\", \"<b>a Zag-Zig</b> <it>(primo passo a calare e poi alterna ad ogni passo)</it>\"),\n",
    "\"ZigZagEQ\": (\"implemented\", \"<b>a Zig-Zag debole</b> <it>(primo passo a crescere e poi alterna ad ogni passo, con valori consecutivi che possono essere uguali)</it>\"),\n",
    "\"ZagZigEQ\": (\"implemented\", \"<b>a Zag-Zig debole</b> <it>(primo passo a calare e poi alterna ad ogni passo, con valori consecutivi che possono essere uguali)</it>\"),\n",
    "\"132-free\": (\"not yet done\", \"<b>dal mondo delle permutazioni pattern free per un infinità di problemi in FPT</b>\"),\n",
    "     \"...\": (\"not thought of yet\", \"<b>???</b>\")\n",
    "}\n",
    "\n",
    "def Latex_type(seq_type):\n",
    "    return dictionary_of_types[seq_type][1].replace(\"_\", \"\\_\")\n",
    "\n",
    "\n",
    "def is_seq_of_type(s, name_s, seq_type):\n",
    "    \"\"\"\n",
    "    valuta se la sequenza di interi s, di nome name_s, è di tipo seq_type (vedi tabella subito sopra).\n",
    "    valore di ritorno (bool, NO_cert_string):\n",
    "       In caso affermativo il bool ritornato come prima componente è True e la seconda componente è None.\n",
    "       Altrimenti il bool è False e viene restituita una stringa che riporta una violazione puntuale alla proprietà richiesta.\n",
    "    \"\"\"\n",
    "    if len(s) > 1:\n",
    "        already_went_down = s[1] < s[0]\n",
    "        already_went_up = s[1] > s[0]\n",
    "    for i in range(1,len(s)):\n",
    "        if s[i] < s[i-1]:\n",
    "            already_went_down = True\n",
    "            if seq_type==\"V\" and already_went_up:\n",
    "                return (0,f\"La sequenza ${LaTexVarName(name_s)}$ non è di tipo ${Latex_type('V')}$ poichè ${LaTexVarName(name_s)}[${i-1}$] = {s[i-2]} $<$ {s[i-1]} $= {LaTexVarName(name_s)}[${i}$] > {LaTexVarName(name_s)}[${i+1}$] =$ {s[i]}.\")\n",
    "            if seq_type in {\"SC\",\"ND\"} or (seq_type in {\"ZigZag\",\"ZigZagEQ\"} and s[i]%2 == 1) or (seq_type in {\"ZagZig\",\"ZagZigEQ\"} and s[i]%2 == 0):\n",
    "                return (0,f\"La sequenza ${LaTexVarName(name_s)}$ non è di tipo ${Latex_type(seq_type)}$ poichè ${LaTexVarName(name_s)}[${i}$] = {s[i-1]} $>$ {s[i]} $= {LaTexVarName(name_s)}[${i+1}$]$.\")\n",
    "        if s[i] > s[i-1]:\n",
    "            already_went_up = True\n",
    "            if seq_type==\"A\" and already_went_down:\n",
    "                return (0,f\"La sequenza ${LaTexVarName(name_s)}$ non è di tipo {Latex_type('A')} poichè ${LaTexVarName(name_s)}[${i-1}$] =$ {s[i-2]} $>$ {s[i-1]} $= {LaTexVarName(name_s)}[${i}$] < {LaTexVarName(name_s)}[${i+1}$] =$ {s[i]}.\")\n",
    "            if seq_type in {\"SD\",\"NC\"} or (seq_type in {\"ZagZig\",\"ZagZigEQ\"} and s[i]%2 == 1) or (seq_type in {\"ZigZag\",\"ZigZagEQ\"} and s[i]%2 == 0):\n",
    "                return (0,f\"La sequenza ${LaTexVarName(name_s)}$ non è di tipo {Latex_type(seq_type)} poichè ${LaTexVarName(name_s)}[${i}$] =$ {s[i-1]} $<$ {s[i]} $= {LaTexVarName(name_s)}[${i+1}$]$.\")\n",
    "        if s[i] == s[i-1] and seq_type in {\"SC\",\"SD\",\"SV\",\"SA\",\"ZigZag\",\"ZagZig\"}:\n",
    "            return (0,f\"La sequenza ${LaTexVarName(name_s)}$ non è di tipo {Latex_type(seq_type)} poichè ${LaTexVarName(name_s)}[${i}$] =$ {s[i-1]} $=$ {s[i]} $= {LaTexVarName(name_s)}[${i+1}$]$.\")\n",
    "    return (1,None)\n",
    "\n",
    "def LaTexVarName(var_name):\n",
    "    return var_name.replace(\"_\", \"\\_\")\n",
    "\n",
    "\n",
    "def is_subseq_of_type(s, name_s, subs, name_subs, subs_type, pt_green, pt_red, forced_ele_pos = None, start_banned_interval = None, end_banned_interval = None):\n",
    "    \"\"\"\n",
    "    Verifica se subs, una sequenza di interi di nome name_subs, è sequenza di tipo subs_type (vedi tabella) e sottosequenza della sequenza s.\n",
    "    Se forced_ele_pos != None è richiesto che subs contenga l'elemento s[forced_ele_pos].\n",
    "    Se start_banned_interval,end_banned_interval != None è richiesto che subs eviti il sottointervallo bandito di s.\n",
    "    Restituisce una stringa contenete la valutazione del certificato subs immesso dallo studente, a tale scopo i parametri pt_green e pt_red mentre pt_blue=pt_red-pt_green è fatto implicito.\n",
    "    \"\"\"\n",
    "    submission_string = f\"Hai inserito il certificato ${LaTexVarName(name_subs)}={subs}$.\"\n",
    "    submission_string += f\"<br>L'istanza era data da ${LaTexVarName(name_s)}={s}$.<br>\"\n",
    "\n",
    "    if not is_seq_of_type(subs, \"subs\", subs_type)[0]:\n",
    "        return submission_string + evaluation_format(\"No\", pt_green,pt_red) + is_seq_of_type(subs, \"subs\", subs_type)[1]\n",
    "    if start_banned_interval != None or end_banned_interval != None:\n",
    "        assert start_banned_interval != None and end_banned_interval != None\n",
    "        if forced_ele_pos != None:\n",
    "            assert forced_ele_pos < start_banned_interval or forced_ele_pos > end_banned_interval\n",
    "            if forced_ele_pos > end_banned_interval:\n",
    "                forced_ele_pos -= end_banned_interval \n",
    "        aux = s[:start_banned_interval-1] +s[end_banned_interval:]\n",
    "    if not is_subseq(s, subs):\n",
    "        return submission_string + f\"{evaluation_format('No', pt_green,pt_red)}\" + f\"La sequenza ${LaTexVarName(name_subs)}$ proposta non è sottosequenza di ${LaTexVarName(name_s)}$.\"\n",
    "    if forced_ele_pos != None:\n",
    "        forced_ele_0basedpos = forced_ele_pos\n",
    "        found_magic_point = False\n",
    "        for guess_0basedpos_in_subs in range(len(subs)):\n",
    "            if subs[guess_0basedpos_in_subs] == s[forced_ele_0basedpos]:\n",
    "                if is_subseq(s[:forced_ele_0basedpos], subs[:guess_0basedpos_in_subs]) and is_subseq(s[forced_ele_0basedpos:], subs[guess_0basedpos_in_subs:]):\n",
    "                    found_magic_point = False\n",
    "        if not found_magic_point:\n",
    "            return submission_string + f\"{evaluation_format('No', pt_green,pt_red)}\" + f\"La sequenza $LaTexVarName({name_subs})$ proposta non è sottosequenza di $LaTexVarName({name_s}) che ne includa l'elemento in posizione {forced_ele_pos}$.\"\n",
    "        \n",
    "    return submission_string + f\"{evaluation_format('Si', pt_green,pt_red)}\"\n",
    "\n",
    "def eval_coloring(s, name_s, col, name_col, subs_type, pt_green=2, pt_red=15):\n",
    "    \"\"\"\n",
    "    Verifica se col, una sequenza di interi positivi di nome name_col, offre una colorazione degli elementi nella sequenza s,\n",
    "    di nome name_s, tale che restringendo l'attenzione ai soli elementi di qualsivoglia colore, la sottosequenza di essi\n",
    "    sia sequenza di tipo subs_type (vedi tabella).\n",
    "    Restituisce una stringa contenete la valutazione del certificato col immesso dallo studente, a tale scopo i parametri pt_green e pt_red mentre pt_blue=pt_red-pt_green è fatto implicito.\n",
    "    \"\"\"\n",
    "    submission_string = f\"Hai inserito il certificato ${LaTexVarName(name_col)}={col}$.\"\n",
    "    submission_string += f\"<br>L'istanza era data da ${LaTexVarName(name_s)}={s}$.<br>\"\n",
    "\n",
    "    for c in col:\n",
    "        subs = [s[i] for i in range(len(s)) if col[i] == c]\n",
    "        if not is_seq_of_type(subs, \"subs\", subs_type)[0]:\n",
    "            return submission_string + f\"{evaluation_format('No', pt_green,pt_red)}\" + f\"Checking the subsequence of the elements colored with {c} within ${LaTexVarName(name_s)}$, that is {subs} ... \" + is_seq_of_type(subs, \"subs\", subs_type)[1]        \n",
    "    return submission_string + f\"{evaluation_format('Si', pt_green,pt_red)}\"\n",
    "    \n"
   ]
  },
  {
   "cell_type": "markdown",
   "metadata": {},
   "source": [
    "## Esercizio \\[60 pts\\]\n",
    "(poldo) Ricerca di sottosequenze strettamente crescenti di massima lughezza."
   ]
  },
  {
   "cell_type": "markdown",
   "metadata": {},
   "source": [
    "Si consideri la seguente sequenza di numeri naturali:"
   ]
  },
  {
   "cell_type": "code",
   "execution_count": 24,
   "metadata": {
    "hide_input": true,
    "readonly": true
   },
   "outputs": [],
   "source": [
    "s = [11, 24, 18, 12, 14, 31, 38, 58, 15, 36, 59, 19, 42, 29, 22, 56, 20, 17, 41, 13, 33, 35, 21, 16, 39, 49, 60, 54, 23]"
   ]
  },
  {
   "cell_type": "code",
   "execution_count": 25,
   "metadata": {},
   "outputs": [
    {
     "name": "stdout",
     "output_type": "stream",
     "text": [
      "[11, 24, 18, 12, 14, 31, 38, 58, 15, 36, 59, 19, 42, 29, 22, 56, 20, 17, 41, 13, 33, 35, 21, 16, 39, 49, 60, 54, 23]\n"
     ]
    }
   ],
   "source": [
    "print(s)"
   ]
  },
  {
   "cell_type": "markdown",
   "metadata": {},
   "source": [
    "\n",
    "__Richieste__:\n"
   ]
  },
  {
   "cell_type": "markdown",
   "metadata": {},
   "source": [
    "1. __[10 pts]__ Trovare una sottosequenza $s1$ strettamente crescente di $s$ che sia la più lunga possibile."
   ]
  },
  {
   "cell_type": "raw",
   "metadata": {},
   "source": [
    "zxcssa"
   ]
  },
  {
   "cell_type": "code",
   "execution_count": 32,
   "metadata": {},
   "outputs": [
    {
     "name": "stdout",
     "output_type": "stream",
     "text": [
      "vuoi eliminare cella sopra?\n"
     ]
    },
    {
     "data": {
      "application/vnd.jupyter.widget-view+json": {
       "model_id": "fb95ef4372014f6a82c6f0cecd14b26d",
       "version_major": 2,
       "version_minor": 0
      },
      "text/plain": [
       "Button(description='Elimina', style=ButtonStyle())"
      ]
     },
     "metadata": {},
     "output_type": "display_data"
    }
   ],
   "source": [
    " codice_bottone_elimina() "
   ]
  },
  {
   "cell_type": "code",
   "execution_count": 34,
   "metadata": {},
   "outputs": [
    {
     "data": {
      "application/vnd.jupyter.widget-view+json": {
       "model_id": "6706ba95c3e34e5aada87a4a08a4c447",
       "version_major": 2,
       "version_minor": 0
      },
      "text/plain": [
       "HBox(children=(Button(description='Aggiorna', style=ButtonStyle()), Dropdown(description='Allegati:', options=…"
      ]
     },
     "metadata": {},
     "output_type": "display_data"
    }
   ],
   "source": [
    " risposta_libera_strutturata_main() "
   ]
  },
  {
   "cell_type": "code",
   "execution_count": 33,
   "metadata": {},
   "outputs": [
    {
     "name": "stdout",
     "output_type": "stream",
     "text": [
      "vuoi eliminare cella sopra?\n"
     ]
    },
    {
     "data": {
      "application/vnd.jupyter.widget-view+json": {
       "model_id": "479d034c366e479f81cd38b75c1e4946",
       "version_major": 2,
       "version_minor": 0
      },
      "text/plain": [
       "Button(description='Elimina', style=ButtonStyle())"
      ]
     },
     "metadata": {},
     "output_type": "display_data"
    }
   ],
   "source": [
    " codice_bottone_elimina() "
   ]
  },
  {
   "cell_type": "code",
   "execution_count": 30,
   "metadata": {
    "hide_input": true
   },
   "outputs": [
    {
     "name": "stdout",
     "output_type": "stream",
     "text": [
      "Con che tipo di modalità vuoi rispondere?\n"
     ]
    },
    {
     "data": {
      "application/vnd.jupyter.widget-view+json": {
       "model_id": "ab5a3fa0d8f1444f829b27d631f32662",
       "version_major": 2,
       "version_minor": 0
      },
      "text/plain": [
       "HBox(children=(Button(description='Libera', style=ButtonStyle()), Button(description='Testo', style=ButtonStyl…"
      ]
     },
     "metadata": {},
     "output_type": "display_data"
    },
    {
     "name": "stdout",
     "output_type": "stream",
     "text": [
      "on_bottone_libera\n"
     ]
    },
    {
     "data": {
      "application/javascript": [
       "var c = Jupyter.notebook.insert_cell_above();\n",
       "    c.set_text(' codice_bottone_elimina() ');\n",
       "    var t_index = IPython.notebook.get_cells().indexOf(c);\n",
       "    IPython.notebook.to_code(t_index);\n",
       "    IPython.notebook.get_cell(t_index).render();\n",
       "    IPython.notebook.execute_cells([t_index])"
      ],
      "text/plain": [
       "<IPython.core.display.Javascript object>"
      ]
     },
     "metadata": {},
     "output_type": "display_data"
    },
    {
     "data": {
      "application/javascript": [
       "var c = Jupyter.notebook.insert_cell_above();\n",
       "    c.set_text(' Hai creato cella raw alla richiesta ');\n",
       "    var t_index = IPython.notebook.get_cells().indexOf(c);\n",
       "    IPython.notebook.to_raw(t_index);\n",
       "    IPython.notebook.get_cell(t_index).render();\n",
       "    IPython.notebook.execute_cells([t_index])"
      ],
      "text/plain": [
       "<IPython.core.display.Javascript object>"
      ]
     },
     "metadata": {},
     "output_type": "display_data"
    },
    {
     "name": "stdout",
     "output_type": "stream",
     "text": [
      "on_bottone_testo\n"
     ]
    },
    {
     "data": {
      "application/javascript": [
       "var c = Jupyter.notebook.insert_cell_above();\n",
       "    c.set_text(' codice_bottone_elimina() ');\n",
       "    var t_index = IPython.notebook.get_cells().indexOf(c);\n",
       "    IPython.notebook.to_code(t_index);\n",
       "    IPython.notebook.get_cell(t_index).render();\n",
       "    IPython.notebook.execute_cells([t_index])"
      ],
      "text/plain": [
       "<IPython.core.display.Javascript object>"
      ]
     },
     "metadata": {},
     "output_type": "display_data"
    },
    {
     "data": {
      "application/javascript": [
       "var c = Jupyter.notebook.insert_cell_above();\n",
       "    c.set_text(' Hai creato cella raw alla richiesta ');\n",
       "    var t_index = IPython.notebook.get_cells().indexOf(c);\n",
       "    IPython.notebook.to_raw(t_index);\n",
       "    IPython.notebook.get_cell(t_index).render();\n",
       "    IPython.notebook.execute_cells([t_index])"
      ],
      "text/plain": [
       "<IPython.core.display.Javascript object>"
      ]
     },
     "metadata": {},
     "output_type": "display_data"
    },
    {
     "name": "stdout",
     "output_type": "stream",
     "text": [
      "on_bottone_libera_strutturata\n"
     ]
    },
    {
     "data": {
      "application/javascript": [
       "var c = Jupyter.notebook.insert_cell_above();\n",
       "    c.set_text(' codice_bottone_elimina() ');\n",
       "    var t_index = IPython.notebook.get_cells().indexOf(c);\n",
       "    IPython.notebook.to_code(t_index);\n",
       "    IPython.notebook.get_cell(t_index).render();\n",
       "    IPython.notebook.execute_cells([t_index])"
      ],
      "text/plain": [
       "<IPython.core.display.Javascript object>"
      ]
     },
     "metadata": {},
     "output_type": "display_data"
    },
    {
     "data": {
      "application/javascript": [
       "var c = Jupyter.notebook.insert_cell_above();\n",
       "    c.set_text(' risposta_libera_strutturata_main() ');\n",
       "    var t_index = IPython.notebook.get_cells().indexOf(c);\n",
       "    IPython.notebook.to_code(t_index);\n",
       "    IPython.notebook.get_cell(t_index).render();\n",
       "    IPython.notebook.execute_cells([t_index])"
      ],
      "text/plain": [
       "<IPython.core.display.Javascript object>"
      ]
     },
     "metadata": {},
     "output_type": "display_data"
    }
   ],
   "source": [
    "loader_main()\n",
    "#libera=aggiungi cella testo raw\n",
    "#Testo= aggiungi cella markdown\n",
    "#Liberastr=allega attachment"
   ]
  },
  {
   "cell_type": "code",
   "execution_count": null,
   "metadata": {},
   "outputs": [],
   "source": [
    "opt = [11,12,14,15,19,20,33,35,39,49,60]\n",
    "opt2 = [11,12,14,15,19,20,33,35,39,49,54]\n",
    "feas = [24,36,56,60]\n",
    "wrong1 = [-3]\n",
    "wrong2 = [5,49]"
   ]
  },
  {
   "cell_type": "code",
   "execution_count": null,
   "metadata": {
    "pycharm": {
     "name": "#%%\n"
    },
    "scrolled": false
   },
   "outputs": [],
   "source": [
    "print(f\"s={s}\")\n",
    "display(Markdown(is_subseq_of_type(s, \"s\", opt, \"opt\", \"SC\", pt_green=1, pt_red=10)))\n",
    "print(f\"Nota: Di fatto opt concretizzerà anche i 9 punti blu come potrai convincerti autonomamente grazie al certificato di NO eventualmente prodotto in ultima domanda in fondo all'esercizio.\")\n",
    "display(Markdown(is_subseq_of_type(s, \"s\", opt2, \"opt2\", \"SC\", pt_green=1, pt_red=10)))\n",
    "print(f\"Nota: Se opt ne merita 10 allora anche opt2 è opt e ne merita altrettanti. Le soluzioni ottime ad un problema possono essere più di una!\")\n",
    "display(Markdown(is_subseq_of_type(s, \"s\", feas, \"feas\", \"SC\", pt_green=1, pt_red=10)))\n",
    "print(f\"Nota: Ma questi 9 punti blu non è sempre detto ti saranno infine assegnati: durante l'esame avrai a disposizione solo dei validatori (Re Artù) di cui avvalerti, noi non forniamo i solutori per non spoilerare l'esercizio ed il tuo divertimento (nonchè il senso dell'esame).\")\n",
    "display(Markdown(is_subseq_of_type(s, \"s\", wrong1, \"wrong1\", \"SC\", pt_green=1, pt_red=10)))\n",
    "print(f\"Nota: Ma questi 9 punti blu non devi considerarli sempre in cassaforte (se non hai i certificati di NO la soluzione potrebbe non essere ottima, come ad esempio in questo caso di feas. Dopo la consegna otterresti solo il punto verde.\")\n",
    "display(Markdown(is_subseq_of_type(s, \"s\", wrong2, \"wrong2\", \"SC\", pt_green=1, pt_red=10)))\n",
    "print(f\"Nota: I validatori (Re Artù) ti assistono evitandoti errori stupidi o l'aver frainteso la consegna in vari modi possibili.\")"
   ]
  },
  {
   "cell_type": "markdown",
   "metadata": {
    "pycharm": {
     "name": "#%%\n"
    }
   },
   "source": [
    "2. __[10 pts]__ Trovare una sottosequenza $s2$ strettamente decrescente di $s$ che sia la più lunga possibile.\n"
   ]
  },
  {
   "cell_type": "code",
   "execution_count": null,
   "metadata": {},
   "outputs": [],
   "source": [
    "#loader2"
   ]
  },
  {
   "cell_type": "code",
   "execution_count": null,
   "metadata": {},
   "outputs": [],
   "source": [
    "subs2 = [5,49]"
   ]
  },
  {
   "cell_type": "code",
   "execution_count": null,
   "metadata": {
    "scrolled": true
   },
   "outputs": [],
   "source": [
    "display(Markdown(is_subseq_of_type(s, \"s\", subs2, \"subs2\", \"SD\", pt_green=1, pt_red=10, forced_ele_pos=None, start_banned_interval=None, end_banned_interval=None)))"
   ]
  },
  {
   "cell_type": "markdown",
   "metadata": {},
   "source": [
    "3. __[10 pts]__ Trovare la più lunga sottosequenza crescente che includa l'elemento di valore 7"
   ]
  },
  {
   "cell_type": "code",
   "execution_count": null,
   "metadata": {},
   "outputs": [],
   "source": [
    "print(s[18-1])"
   ]
  },
  {
   "cell_type": "code",
   "execution_count": null,
   "metadata": {},
   "outputs": [],
   "source": [
    "subs3 = [5,49]"
   ]
  },
  {
   "cell_type": "code",
   "execution_count": null,
   "metadata": {},
   "outputs": [],
   "source": [
    "display(Markdown(is_subseq_of_type(s, \"s\", subs3, \"subs3\", \"SC\", pt_green=1, pt_red=10, forced_ele_pos=18, start_banned_interval=None, end_banned_interval=None)))"
   ]
  },
  {
   "cell_type": "markdown",
   "metadata": {},
   "source": [
    "4. __[10 pts]__ Una sequenza è detta una _V-sequenza_ se cala fino ad un certo punto, e da lì in poi cresce sempre. Trovare la più lunga V-sequenza che sia una sottosequenza della sequenza data"
   ]
  },
  {
   "cell_type": "code",
   "execution_count": null,
   "metadata": {},
   "outputs": [],
   "source": [
    "subs4 = [5,49]"
   ]
  },
  {
   "cell_type": "code",
   "execution_count": null,
   "metadata": {},
   "outputs": [],
   "source": [
    "display(Markdown(is_subseq_of_type(s, \"s\", subs4, \"subs4\", \"V\", pt_green=1, pt_red=10)))"
   ]
  },
  {
   "cell_type": "markdown",
   "metadata": {},
   "source": [
    "5. __[20 pts]__ Qual è il minor numero possibile di colori _C_ per colorare gli elementi della sequenza in input in modo che, per ogni colore, la sottosequenza degli elementi di quel colore sia monotona non crescente? Specificare per ogni elemento il colore (come colori, usare i numeri da 1 a _C_)\n"
   ]
  },
  {
   "cell_type": "code",
   "execution_count": null,
   "metadata": {
    "pycharm": {
     "name": "#%%\n"
    }
   },
   "outputs": [],
   "source": [
    "recall_s = [11, 24, 18, 12, 14, 31, 38, 58, 15, 36, 59, 19, 42, 29, 22, 56, 20, 17, 41, 13, 33, 35, 21, 16, 39, 49, 60, 54, 23]\n",
    "col_opt  = [ 1,  2,  2,  2,  3,  4,  5,  6,  4,  5,  7,  5,  6,  6,  6,  7,  6,  5,  7,  3,  7,  8,  7,  5,  9, 10, 11, 11,  8]\n",
    "col_feas = [ 1,  2,  2,  2,  3,  4,  5,  6,  4,  5,  7,  5,  6,  6,  6,  7,  6,  5,  7,  3,  7,  8,  8,  7, 10, 12, 14, 15,  8]\n",
    "col_bad1 = [ 1,  2,  2,  2,  3,  4,  5,  4,  4,  5,  7,  5,  5,  6,  6,  7,  6,  5,  7,  3,  7,  8,  7,  5, 16, 20, 11, 11,  8]\n",
    "col_bad2 = [-1,  2,  2,  2,  3,  4,  5,  6,  4,  5,  7,  5,  5,  6,  6,  7,  6,  5,  7,  3,  7,  8,  7,  5, 16, 20, 11, 11,  8]\n",
    "col_bad3 = [ 0,  2,  2,  2,  3,  4,  5,  6,  4,  5,  7,  5,  5,  6,  6,  7,  6,  5,  7,  3,  7,  8,  7,  5, 16, 20, 11, 11,  8]\n"
   ]
  },
  {
   "cell_type": "code",
   "execution_count": null,
   "metadata": {
    "pycharm": {
     "name": "#%%\n"
    }
   },
   "outputs": [],
   "source": [
    "display(Markdown(eval_coloring(s, \"s\", col_opt, \"col_opt\", \"SD\", pt_green=2, pt_red=15)))\n",
    "display(Markdown(eval_coloring(s, \"s\", col_feas, \"col_feas\", \"SD\", pt_green=2, pt_red=15)))\n",
    "display(Markdown(eval_coloring(s, \"s\", col_bad1, \"col_bad1\", \"SD\", pt_green=2, pt_red=15)))\n",
    "display(Markdown(eval_coloring(s, \"s\", col_bad2, \"col_bad2\", \"SD\", pt_green=2, pt_red=15)))\n"
   ]
  },
  {
   "cell_type": "code",
   "execution_count": null,
   "metadata": {
    "pycharm": {
     "name": "#%%\n"
    }
   },
   "outputs": [],
   "source": []
  },
  {
   "cell_type": "code",
   "execution_count": null,
   "metadata": {
    "pycharm": {
     "name": "#%%\n"
    }
   },
   "outputs": [],
   "source": []
  },
  {
   "cell_type": "code",
   "execution_count": null,
   "metadata": {
    "pycharm": {
     "name": "#%%\n"
    }
   },
   "outputs": [],
   "source": []
  },
  {
   "cell_type": "code",
   "execution_count": null,
   "metadata": {},
   "outputs": [],
   "source": []
  },
  {
   "cell_type": "code",
   "execution_count": null,
   "metadata": {},
   "outputs": [],
   "source": [
    "display(Markdown(eval_coloring(s, \"s\", col_opt, \"col_opt\", \"SD\", pt_green=2, pt_red=15)))\n",
    "display(Markdown(eval_coloring(s, \"s\", col_feas, \"col_feas\", \"SD\", pt_green=2, pt_red=15)))\n",
    "display(Markdown(eval_coloring(s, \"s\", col_bad1, \"col_bad1\", \"SD\", pt_green=2, pt_red=15)))\n",
    "display(Markdown(eval_coloring(s, \"s\", col_bad2, \"col_bad2\", \"SD\", pt_green=2, pt_red=15)))\n"
   ]
  },
  {
   "cell_type": "code",
   "execution_count": null,
   "metadata": {},
   "outputs": [],
   "source": []
  },
  {
   "cell_type": "code",
   "execution_count": null,
   "metadata": {},
   "outputs": [],
   "source": []
  },
  {
   "cell_type": "code",
   "execution_count": null,
   "metadata": {},
   "outputs": [],
   "source": []
  }
 ],
 "metadata": {
  "celltoolbar": "Edit Metadata",
  "hide_input": false,
  "kernelspec": {
   "display_name": "Python 3",
   "language": "python",
   "name": "python3"
  },
  "language_info": {
   "codemirror_mode": {
    "name": "ipython",
    "version": 3
   },
   "file_extension": ".py",
   "mimetype": "text/x-python",
   "name": "python",
   "nbconvert_exporter": "python",
   "pygments_lexer": "ipython3",
   "version": "3.7.4"
  }
 },
 "nbformat": 4,
 "nbformat_minor": 4
}
